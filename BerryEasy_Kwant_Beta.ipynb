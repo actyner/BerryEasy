{
 "cells": [
  {
   "cell_type": "code",
   "execution_count": 2,
   "id": "153bce51",
   "metadata": {},
   "outputs": [],
   "source": [
    "#Wilson Loop Calculation\n",
    "def HamBlk(kx,ky,kz,syst,kwant=False):\n",
    "    if kwant==True:\n",
    "        syst = syst(kx,ky,kz)\n",
    "        syst = syst.finalized()\n",
    "        ham_mat = syst.hamiltonian_submatrix(sparse=True)\n",
    "        EV,EVec=np.linalg.eigh(ham_mat.toarray())\n",
    "    else:\n",
    "        solver= pb.solver.lapack(syst)\n",
    "        solver.set_wave_vector([kx,ky,kz])\n",
    "        EV=solver.eigenvalues\n",
    "        EVec=solver.eigenvectors\n",
    "    return EV, EVec\n",
    "def proj(kx,ky,kz,syst,bnds,kwant=False):\n",
    "    w,v=HamBlk(kx,ky,kz,syst,kwant)\n",
    "    #w,v=np.linalg.eigh(H)\n",
    "    ft=np.zeros(np.shape(np.outer(np.transpose(np.conjugate(v[:,[0]])),v[:,[0]])))\n",
    "    for i in bnds:\n",
    "        ft=ft+np.outer(v[:,[i]],np.transpose(np.conjugate(v[:,[i]])))\n",
    "    return ft\n",
    "def eig(kx,ky,kz,syst,bnds,kwant):\n",
    "    w,v=HamBlk(kx,ky,kz,syst,kwant)\n",
    "    #w,v=np.linalg.eigh(H)\n",
    "    return v[:,bnds]\n",
    "def WSurf(vec,syst,bnds,ds,ds2,rvec0,kwant=False):\n",
    "    #rvec0 = np.array((getattr(syst,'lattice')).reciprocal_vectors())\n",
    "    rvec=np.zeros((3,3))\n",
    "    for j in range(np.shape(rvec0)[0]):\n",
    "        rvec[j]=rvec0[j]\n",
    "    WCC=[]\n",
    "    #rf3=np.dot(rvec,vec(0,1))\n",
    "    #kp = np.linspace(0,rf3,ds2)\n",
    "    for kk1 in range(int(ds2+1)):\n",
    "        kk=np.dot(vec(0,kk1/ds2),rvec)\n",
    "        #rf=np.dot(vec(1,0),rvec)\n",
    "        #rf2=np.dot(vec(1,0),rvec)+kk\n",
    "        rf=np.dot(np.array(vec(1,0))-np.array(vec(0,0)),rvec)\n",
    "        rf2=rf+kk\n",
    "        kpts=np.linspace(rf/ds+kk,rf-rf/ds+kk,ds)\n",
    "        w,v=HamBlk(rf2[0],rf2[1],rf2[2],syst,kwant)\n",
    "        #w,v=np.linalg.eigh(H)\n",
    "        sp=v[:,bnds]\n",
    "        ft=proj(rf2[0],rf2[1],rf2[2],syst,bnds,kwant)\n",
    "        ff=ft\n",
    "        for i in kpts:\n",
    "            ft=np.dot(ft,proj(i[0],i[1],i[2],syst,bnds,kwant))\n",
    "        ft=np.dot(ft,ff)\n",
    "        WCC.append(np.imag(np.log(np.linalg.eigvals(np.dot(np.dot(np.transpose(np.conjugate(sp)),ft),sp)))))\n",
    "    return WCC\n",
    "\n",
    "def projnwl(WCC, bnds2):\n",
    "    v=np.array(WCC)\n",
    "    ft=np.zeros(np.shape(np.outer(np.transpose(np.conjugate(v[:,[0]])),v[:,[0]])))\n",
    "    #ft=np.outer(np.transpose(np.conjugate(v)),v)\n",
    "    for i in bnds2:\n",
    "        ft=ft+np.outer(v[:,[i]],np.transpose(np.conjugate(v[:,[i]])))\n",
    "    return ft\n",
    "def Hermitize(X):\n",
    "    return 0.5*(X+np.conjugate(np.transpose(X)))\n",
    "def WNWL(vec,syst,bnds,bnds2,ds,ds2,rvec0,kwant=False):\n",
    "    #rvec0 = np.array((getattr(syst,'lattice')).reciprocal_vectors())\n",
    "    rvec=np.zeros((3,3))\n",
    "    for j in range(np.shape(rvec0)[0]):\n",
    "        rvec[j]=rvec0[j]\n",
    "    WCC=[]\n",
    "    #rf3=np.dot(vec(0,1),rvec)\n",
    "    #kp = np.linspace(0,rf3,ds2)\n",
    "    for kk1 in range(int(ds2+1)):\n",
    "        kk=np.dot(vec(0,kk1/ds2),rvec)\n",
    "        #rf=np.dot(vec(1,0),rvec)\n",
    "        #rf2=np.dot(vec(1,0),rvec)+kk\n",
    "        rf=np.dot(np.array(vec(1,0))-np.array(vec(0,0)),rvec)\n",
    "        rf2=rf+kk\n",
    "        kpts=np.linspace(rf/ds+kk,rf-rf/ds+kk,ds)\n",
    "        w,v=HamBlk(rf2[0],rf2[1],rf2[2],syst,kwant)\n",
    "        #w,v=np.linalg.eigh(H)\n",
    "        sp=v[:,bnds]\n",
    "        ft=proj(rf2[0],rf2[1],rf2[2],syst,bnds,kwant)\n",
    "        ff=ft\n",
    "        for i in kpts:\n",
    "            ft=np.dot(ft,proj(i[0],i[1],i[2],syst,bnds,kwant))\n",
    "        ft=np.dot(ft,ff)\n",
    "        WH=Hermitize(-1j*scipy.linalg.logm(np.dot(np.dot(np.transpose(np.conjugate(sp)),ft),sp)))\n",
    "        w, v= np.linalg.eigh(WH)\n",
    "        WCC.append(np.dot(eig(rf2[0],rf2[1],rf2[2],syst,bnds,kwant),v))\n",
    "    sp=WCC[0][:,bnds2]\n",
    "    ft=projnwl(WCC[0],bnds2)\n",
    "    for i in range(int(ds2+1)):\n",
    "        ft=np.dot(ft,projnwl(WCC[i],bnds2))\n",
    "    ft=np.dot(ft,projnwl(WCC[0],bnds2))\n",
    "    return np.imag(np.log(np.linalg.eigvals(np.dot(np.dot(np.transpose(np.conjugate(sp)),ft),sp))))\n",
    "\n",
    "\n",
    "#Spin resolved Wilson loop:\n",
    "def proj2(kx,ky,kz,syst,bnds,op,kwant=False):\n",
    "    H=np.dot(np.dot(proj(kx,ky,kz,syst,bnds,kwant),op),proj(kx,ky,kz,syst,bnds,kwant))\n",
    "    w,v=np.linalg.eigh(H)\n",
    "    ft=np.zeros(np.shape(np.outer(np.transpose(np.conjugate(v[:,[0]])),v[:,[0]])))\n",
    "    for i in bnds[:int(np.shape(bnds)[0]/2)]:\n",
    "        ft=ft+np.outer(v[:,[i]],np.transpose(np.conjugate(v[:,[i]])))\n",
    "    return ft\n",
    "def WSpinSurf(vec,syst,bnds,ds,ds2,op,rvec0,kwant=False):\n",
    "    #rvec0 = np.array((getattr(syst,'lattice')).reciprocal_vectors())\n",
    "    rvec=np.zeros((3,3))\n",
    "    for j in range(np.shape(rvec0)[0]):\n",
    "        rvec[j]=rvec0[j]\n",
    "    WCC=[]\n",
    "    #rf3=np.dot(rvec,vec(0,1))\n",
    "    #kp = np.linspace(0,rf3,ds2)\n",
    "    for kk1 in range(int(ds2+1)):\n",
    "        kk=np.dot(vec(0,kk1/ds2),rvec)\n",
    "        #rf=np.dot(vec(1,0),rvec)\n",
    "        #rf2=np.dot(vec(1,0),rvec)+kk\n",
    "        rf=np.dot(np.array(vec(1,0))-np.array(vec(0,0)),rvec)\n",
    "        rf2=rf+kk\n",
    "        kpts=np.linspace(rf/ds+kk,rf-rf/ds+kk,ds)\n",
    "        H=np.dot(np.dot(proj(rf2[0],rf2[1],rf2[2],syst,bnds[:int(np.shape(bnds)[0]/2)],kwant),op),proj(rf2[0],rf2[1],rf2[2],syst,bnds[:int(np.shape(bnds)[0]/2)],kwant))\n",
    "        w,v=np.linalg.eigh(H)\n",
    "        sp=v[:,bnds[:int(np.shape(bnds)[0]/2)]]\n",
    "        ft=proj2(rf2[0],rf2[1],rf2[2],syst,bnds,op,kwant)\n",
    "        ff=ft\n",
    "        for i in kpts:\n",
    "            ft=np.dot(ft,proj2(i[0],i[1],i[2],syst,bnds,op,kwant))\n",
    "        ft=np.dot(ft,ff)\n",
    "        WCC.append(np.imag(np.log(np.linalg.eigvals(np.dot(np.dot(np.transpose(np.conjugate(sp)),ft),sp)))))\n",
    "    return WCC\n",
    "\n",
    "def WSpinLine(kpts,syst,bnds,op,kwant=False):\n",
    "    WCC=[]\n",
    "    rf2=kpts[0]\n",
    "    H=np.dot(np.dot(proj(rf2[0],rf2[1],rf2[2],syst,bnds[:int(np.shape(bnds)[0]/2)],kwant),op),proj(rf2[0],rf2[1],rf2[2],syst,bnds[:int(np.shape(bnds)[0]/2)],kwant))\n",
    "    w,v=np.linalg.eigh(H)\n",
    "    sp=v[:,bnds[:int(np.shape(bnds)[0]/2)]]\n",
    "    ft=proj2(rf2[0],rf2[1],rf2[2],syst,bnds,op)\n",
    "    ff=ft\n",
    "    for i in kpts[1:]:\n",
    "        ft=np.dot(ft,proj2(i[0],i[1],i[2],syst,bnds,op))\n",
    "    ft=np.dot(ft,ff)\n",
    "    WCC.append(np.imag(np.log(np.linalg.eigvals(np.dot(np.dot(np.transpose(np.conjugate(sp)),ft),sp)))))\n",
    "    return WCC\n",
    "\n",
    "def WLine(kpts,syst,bnds,kwant=False):\n",
    "    WCC=[]\n",
    "    #rvec0 = np.array(lat.reciprocal_vectors())\n",
    "    rf2=kpts[0]\n",
    "    w,v=HamBlk(rf2[0],rf2[1],rf2[2],syst,kwant)\n",
    "    #w,v=np.linalg.eigh(H)\n",
    "    sp=v[:,bnds]\n",
    "    ft=proj(rf2[0],rf2[1],rf2[2],syst,bnds,kwant)\n",
    "    ff=ft\n",
    "    for i in kpts[1:]:\n",
    "        ft=np.dot(ft,proj(i[0],i[1],i[2],syst,bnds,kwant))\n",
    "    ft=np.dot(ft,ff)\n",
    "    WCC.append(np.imag(np.log(np.linalg.eigvals(np.dot(np.dot(np.transpose(np.conjugate(sp)),ft),sp)))))\n",
    "    return WCC\n",
    "def spin_spectrum(kx,ky,kz,syst,bnds,op,kwant=False):\n",
    "    H=np.dot(np.dot(proj(kx,ky,kz,syst,bnds,kwant),op),proj(kx,ky,kz,syst,bnds,kwant))\n",
    "    w, v =np.linalg.eigh(H)\n",
    "    #w= cp.asnumpy(w)\n",
    "    #v= cp.asnumpy(v)\n",
    "    idx = np.argsort(np.abs(w))\n",
    "    ev = w[idx[int(np.shape(w)[0]-np.shape(bnds)[0]):]]\n",
    "    return np.sort(ev)"
   ]
  },
  {
   "cell_type": "markdown",
   "id": "f74a1edd",
   "metadata": {},
   "source": [
    "# Interfacing Berry Easy with Kwant"
   ]
  },
  {
   "cell_type": "code",
   "execution_count": 1,
   "id": "e68a1fc1",
   "metadata": {},
   "outputs": [
    {
     "name": "stderr",
     "output_type": "stream",
     "text": [
      "C:\\Users\\18585\\anaconda3\\lib\\site-packages\\kwant\\solvers\\default.py:16: RuntimeWarning: MUMPS is not available, SciPy built-in solver will be used as a fallback. Performance can be very poor in this case.\n",
      "  warnings.warn(\"MUMPS is not available, \"\n"
     ]
    }
   ],
   "source": [
    "# Packages needed\n",
    "from BerryEasy import BerryEasy as be\n",
    "import pybinding as pb\n",
    "import numpy as np\n",
    "import matplotlib.pyplot as plt\n",
    "import scipy\n",
    "import kwant"
   ]
  },
  {
   "cell_type": "code",
   "execution_count": null,
   "id": "66b1e637",
   "metadata": {},
   "outputs": [],
   "source": []
  },
  {
   "cell_type": "markdown",
   "id": "70380d31",
   "metadata": {},
   "source": [
    "# Note that unlike utilizing BerryEasy with PyBinding, the Kwant code requires the user to define the twisted boundary conditions to utilize BerryEasy. \n",
    "# Examples of how to implement such boundary conditions are shown here. \n"
   ]
  },
  {
   "cell_type": "markdown",
   "id": "ed0db5b5",
   "metadata": {},
   "source": [
    "# Define the Chern insulator model in Kwant on a 4x4 slab with twisted boundary conditions tx and ty, such that $\\psi(x,y)=e^{i tx}\\psi(x+L,y)$ and $\\psi(x,y)=e^{i ty}\\psi(x,y+L)$"
   ]
  },
  {
   "cell_type": "code",
   "execution_count": 2,
   "id": "0e7148e7",
   "metadata": {},
   "outputs": [],
   "source": [
    "\n",
    "g_1 = np.array([[0, 1],[1,0]])\n",
    "g_2 = np.array([[0,-1j],[1j,0]])\n",
    "g_3 = np.array([[1,0],[0,-1]])\n",
    "\n",
    "def chern_ins(M,tx,ty, a=1, L=4, W=4):\n",
    "\n",
    "    # square lattice\n",
    "    lat = kwant.lattice.square(a)\n",
    "    syst = kwant.Builder()\n",
    "\n",
    "   \n",
    "\n",
    "    # onsite potential\n",
    "    syst[(lat(x, y) for x in range(L) for y in range(W))] = (M - 4) * g_3\n",
    "\n",
    "    for i in range(L):\n",
    "        for j in range(W):\n",
    "            # Hopping along (1,0)\n",
    "            if i==0:\n",
    "                syst[lat(i, j), lat((i-1)%L, j)] = (g_3 - 1j * 0.5 * g_1)*np.exp(1j*tx*L) # Defines twisted boundary\n",
    "            else:\n",
    "                syst[lat(i, j), lat((i-1)%L, j)] = (g_3 - 1j * 0.5 * g_1)\n",
    "            # Hopping along (0,1)\n",
    "            if j==0:\n",
    "                syst[lat(i, j), lat(i, (j-1)%W)] = (g_3 - 1j * 0.5 * g_2)*np.exp(1j*ty*W) # Defines twisted boundary\n",
    "            else:\n",
    "                syst[lat(i, j), lat(i, (j-1)%W)] = (g_3 - 1j * 0.5 * g_2)\n",
    "            \n",
    "            \n",
    "                \n",
    "                \n",
    "    return syst"
   ]
  },
  {
   "cell_type": "code",
   "execution_count": 3,
   "id": "f25e3f2b",
   "metadata": {},
   "outputs": [],
   "source": [
    "# Compute Wannier center charges along k_{x} direction as a function of transverse momenta k_{y}\n",
    "L=4\n",
    "\n",
    "def model(tx,ty,tz):\n",
    "    return chern_ins(2,tx,ty)\n",
    "\n",
    "\n",
    "vec=lambda t1, t2: [t1, t2, 0]\n",
    "ds=100 #discretize integration into 100 steps\n",
    "ds2=100 #consider 100 points along k_{y}\n",
    "bnds=range(L*L) #Occupied bands\n",
    "rvec=2*np.pi*np.diag([1,1,1])/L #Fixed range of twist parameter \n",
    "WCCx=be.WSurf(vec,model,bnds,ds,ds2,rvec,kwant=True)"
   ]
  },
  {
   "cell_type": "code",
   "execution_count": 4,
   "id": "938170ad",
   "metadata": {},
   "outputs": [
    {
     "data": {
      "image/png": "[encoded data removed]",
      "text/plain": [
       "<Figure size 640x480 with 1 Axes>"
      ]
     },
     "metadata": {},
     "output_type": "display_data"
    }
   ],
   "source": [
    "from math import pi\n",
    "plt.rcParams[\"font.family\"] = \"Times New Roman\"\n",
    "plt.rcParams.update({'font.size': 16})\n",
    "plt.plot(WCCx,'o', c='gray')\n",
    "plt.ylim(-pi,pi)\n",
    "plt.xlim(0,100)\n",
    "plt.yticks([-pi,0,pi],[r'$0$',r'$1/2$',r'$1$'])\n",
    "plt.xlabel(r'$k_{y}$')\n",
    "plt.xticks([0,50,100],[r'$-\\pi/L$',r'$0$',r'$\\pi/L$'])\n",
    "plt.ylabel(r'$\\bar{x}(k_{y})$')\n",
    "plt.tight_layout()\n",
    "#plt.savefig('Kwant_Chern_WCC.png')\n",
    "\n",
    "plt.show()"
   ]
  },
  {
   "cell_type": "markdown",
   "id": "03542675",
   "metadata": {},
   "source": [
    "# Now let us use the WLine function to compute the Chern number in a reciprocal space resolved manner, summing the Berry curvature through a series of small square plaquettes"
   ]
  },
  {
   "cell_type": "code",
   "execution_count": 6,
   "id": "6269ffe7",
   "metadata": {},
   "outputs": [
    {
     "data": {
      "image/png": "[encoded data removed]",
      "text/plain": [
       "<Figure size 640x480 with 2 Axes>"
      ]
     },
     "metadata": {},
     "output_type": "display_data"
    }
   ],
   "source": [
    "def model(tx,ty,tz):\n",
    "    return chern_ins(2,tx,ty)\n",
    "plaquettes=40 #Considering a 40x40 grid for computing Berry flux\n",
    "rvec1=2*np.pi/L\n",
    "rvec2=2*np.pi/L\n",
    "dsx=((np.pi/L)/(plaquettes))\n",
    "dsy=((np.pi/L)/(plaquettes))\n",
    "kp1=np.linspace(dsx,rvec1-dsx,plaquettes)\n",
    "kp2=np.linspace(dsy,rvec2-dsy,plaquettes)\n",
    "bnds=range(4*4)\n",
    "WCCtemp=[]\n",
    "for kx in kp1:\n",
    "    for ky in kp2:\n",
    "        kpts=np.array([[kx-dsx,ky-dsy,0],[kx+dsx,ky-dsy,0],[kx+dsx,ky+dsy,0],[kx-dsx,ky+dsy,0]]) # define line for Wilson loop around plaquette\n",
    "        WCCtemp.append(be.WLine(kpts,model,bnds,kwant=True))\n",
    "plt.rcParams[\"font.family\"] = \"Times New Roman\"\n",
    "plt.rcParams.update({'font.size': 14})\n",
    "chern=[]\n",
    "for j in range(np.shape(WCCtemp)[0]):\n",
    "    chern.append(np.sum(WCCtemp[j]))\n",
    "plt.imshow(np.array(chern).reshape(40,40),cmap='jet')\n",
    "plt.ylabel(r'$k_{y}$')\n",
    "plt.xlabel(r'$k_{x}$')\n",
    "plt.xticks([0,19.5,39],[0,'$\\pi/L$','$2\\pi/L$'])\n",
    "plt.yticks([0,19.5,39],[0,'$\\pi/L$','$2\\pi/L$'])\n",
    "plt.xlim(0,39)\n",
    "plt.ylim(0,39)\n",
    "\n",
    "plt.title('C='+str(np.round(np.sum(chern)/(2*np.pi),3)))\n",
    "clb = plt.colorbar()\n",
    "clb.ax.set_title(r'$F_{xy}(\\mathbf{k})$')\n",
    "plt.tight_layout()\n",
    "plt.show()"
   ]
  },
  {
   "cell_type": "markdown",
   "id": "c05fff75",
   "metadata": {},
   "source": [
    "# Now we consider the BHZ model of a quantum spin-Hall insulator"
   ]
  },
  {
   "cell_type": "code",
   "execution_count": 8,
   "id": "3ba65d35",
   "metadata": {},
   "outputs": [],
   "source": [
    "\n",
    "\n",
    "g_1 = np.array([[0, 0, 0, 1], [0, 0, 1, 0],[0, 1, 0, 0],[1, 0, 0, 0]])\n",
    "g_2 = np.array([[0,0,0, -1j], [0,0, 1j, 0],[0, -1j,0,0], [1j, 0,0,0]])\n",
    "g_3 = np.array([[0, 0, 1, 0], [0, 0, 0, -1],[1, 0, 0, 0],[0, -1, 0, 0]])\n",
    "g_4 = np.array([[0,0, -1j, 0], [0,0, 0,-1j],[1j,0,0,0], [0,1j,0,0]])\n",
    "g_5 = np.diag([1,1,-1, -1])\n",
    "def BHZ(M,tx,ty, a=1, L=4, W=4):\n",
    "\n",
    "    # square lattice\n",
    "    lat = kwant.lattice.square(a)\n",
    "    syst = kwant.Builder()\n",
    "    \n",
    "\n",
    "    # onsite potential\n",
    "    syst[(lat(x, y) for x in range(L) for y in range(W))] = (M - 4) * g_5\n",
    "\n",
    "    for i in range(L):\n",
    "        for j in range(W):\n",
    "            # Hopping along (1,0)\n",
    "            if i==0:\n",
    "                syst[lat(i, j), lat((i-1)%L, j)] = (g_5 - 1j * 0.5 * g_1)*np.exp(1j*tx*L)\n",
    "            else:\n",
    "                syst[lat(i, j), lat((i-1)%L, j)] = (g_5 - 1j * 0.5 * g_1)\n",
    "            # Hopping along (0,1)\n",
    "            if j==0:\n",
    "                syst[lat(i, j), lat(i, (j-1)%W)] = (g_5 - 1j * 0.5 * g_2)*np.exp(1j*ty*W)\n",
    "            else:\n",
    "                syst[lat(i, j), lat(i, (j-1)%W)] = (g_5 - 1j * 0.5 * g_2)\n",
    "            \n",
    "            \n",
    "                \n",
    "                \n",
    "    return syst"
   ]
  },
  {
   "cell_type": "markdown",
   "id": "e94aa86f",
   "metadata": {},
   "source": [
    "# We compute the WCC spectra to confirm the Z2 classification"
   ]
  },
  {
   "cell_type": "code",
   "execution_count": 9,
   "id": "4dc89d5f",
   "metadata": {},
   "outputs": [
    {
     "data": {
      "image/png": "[encoded data removed]",
      "text/plain": [
       "<Figure size 640x480 with 1 Axes>"
      ]
     },
     "metadata": {},
     "output_type": "display_data"
    }
   ],
   "source": [
    "from math import pi\n",
    "L=4\n",
    "def model(tx,ty,tz):\n",
    "    return BHZ(2,tx,ty)\n",
    "# Compute Wannier center charges along k_{x} direction as a function of transverse momenta\n",
    "vec=lambda t1, t2: [t1, t2, 0]\n",
    "ds=20\n",
    "bnds=range(2*L*L)\n",
    "rvec=2*np.pi*np.diag([1,1,1])/L\n",
    "WCCx=be.WSurf(vec,model,bnds,ds,ds,rvec,kwant=True)\n",
    "plt.rcParams[\"font.family\"] = \"Times New Roman\"\n",
    "plt.rcParams.update({'font.size': 16})\n",
    "plt.plot(WCCx,'o', c='gray')\n",
    "plt.ylim(-pi,pi)\n",
    "plt.xlim(0,20)\n",
    "#plt.xlim(0,100)\n",
    "plt.yticks([-pi,0,pi],[r'$0$',r'$1/2$',r'$1$'])\n",
    "plt.xlabel(r'$k_{y}$')\n",
    "plt.xticks([0,10,20],[r'$-\\pi/L$',r'$0$',r'$\\pi/L$'])\n",
    "plt.ylabel(r'$\\bar{x}(k_{y})$')\n",
    "plt.tight_layout()"
   ]
  },
  {
   "cell_type": "markdown",
   "id": "b1f66c76",
   "metadata": {},
   "source": [
    "# Now we consider computing the Nested Wilson loop for the Chiral HOTI Model"
   ]
  },
  {
   "cell_type": "code",
   "execution_count": 10,
   "id": "5ff756c4",
   "metadata": {},
   "outputs": [
    {
     "name": "stderr",
     "output_type": "stream",
     "text": [
      "100%|██████████| 21/21 [02:57<00:00,  8.44s/it]\n"
     ]
    }
   ],
   "source": [
    "from tqdm import tqdm\n",
    "NWL=[]\n",
    "\n",
    "ds=20\n",
    "ds2=40\n",
    "L=3\n",
    "bnds=range(2*L*L*L) #bands for construction of Wannier Hamiltonian\n",
    "bnds2=range(L*L*L) #bands of Wannier Hamiltonian being considered\n",
    "\n",
    "def CHOTI(tx,ty,tz,a=1, L=3):\n",
    "    # square lattice\n",
    "    lat = kwant.lattice.cubic(a)\n",
    "    syst = kwant.Builder()\n",
    "    # onsite potential\n",
    "    syst[(lat(x, y, z) for x in range(L) for y in range(L) for z in range(L))] = (-2.5) * g_5 \n",
    "\n",
    "    for i in range(L):\n",
    "        for j in range(L):\n",
    "            for q in range(L):\n",
    "                # Hopping along (1,0)\n",
    "                if i==0:\n",
    "                    syst[lat(i, j, q), lat((i-1)%L, j, q)] = (.5*g_5 - 1j * 0.5 * g_1+g_4)*np.exp(1j*tx*L)\n",
    "                else:\n",
    "                    syst[lat(i, j, q), lat((i-1)%L, j, q)] = (.5*g_5 - 1j * 0.5 * g_1+g_4)\n",
    "                # Hopping along (0,1)\n",
    "                if j==0:\n",
    "                    syst[lat(i, j, q), lat(i, (j-1)%L, q)] = (.5*g_5 - 1j * 0.5 * g_2-g_4)*np.exp(1j*ty*L)\n",
    "                else:\n",
    "                    syst[lat(i, j, q), lat(i, (j-1)%L, q)] = (.5*g_5 - 1j * 0.5 * g_2-g_4)      \n",
    "                if q==0:\n",
    "                    syst[lat(i, j, q), lat(i, j, (q-1)%L)] = (.5*g_5 - 1j * 0.5 * g_3)*np.exp(1j*tz*L)\n",
    "                else:\n",
    "                    syst[lat(i, j, q), lat(i, j, (q-1)%L)] = (.5*g_5 - 1j * 0.5 * g_3)      \n",
    "\n",
    "    return syst\n",
    "for kz in tqdm(np.linspace(0,1,21)):\n",
    "    def model(tx,ty,tz):\n",
    "        return CHOTI(tx,ty, tz)\n",
    "    rvec=2*np.pi*np.diag([1,1,1])/L\n",
    "    vec=lambda t1, t2: [t1, t2, kz]\n",
    "    WCCx=be.WNWL(vec,model,bnds,bnds2,ds,ds,rvec,kwant=True)\n",
    "    NWL.append(np.sum(WCCx))"
   ]
  },
  {
   "cell_type": "code",
   "execution_count": 11,
   "id": "a8d8c709",
   "metadata": {},
   "outputs": [
    {
     "data": {
      "image/png": "[encoded data removed]",
      "text/plain": [
       "<Figure size 640x480 with 1 Axes>"
      ]
     },
     "metadata": {},
     "output_type": "display_data"
    }
   ],
   "source": [
    "plt.plot(np.array(NWL),'o',c='gray')\n",
    "plt.ylim(-np.pi,np.pi)\n",
    "plt.yticks([-np.pi,0,np.pi],[r'$-\\pi$',r'$0$',r'$\\pi$'])\n",
    "plt.xlabel(r'$k_{z}$')\n",
    "plt.xlim(0,20)\n",
    "plt.xticks([0,10,20],[r'$-\\pi$',r'$0$',r'$\\pi$'])\n",
    "plt.ylabel(r'$\\lambda_{xy}(k_{z})$')\n",
    "plt.show()"
   ]
  },
  {
   "cell_type": "markdown",
   "id": "1278c4f4",
   "metadata": {},
   "source": [
    "# Now let us compute the spin-resolved WCC spectra for the Chiral HOTI Model in the kz=0 plane, we will show that using the spin-resolved Wilson loop this plane has a spin-Chern number"
   ]
  },
  {
   "cell_type": "code",
   "execution_count": 14,
   "id": "c2331c63",
   "metadata": {},
   "outputs": [],
   "source": [
    "def model(tx,ty,tz):\n",
    "    return CHOTI(tx,ty,tz)\n",
    "L=3\n",
    "vec=lambda t1, t2: [t1, t2, 0]\n",
    "ds=20\n",
    "ds2=20\n",
    "bnds=range(2*L*L*L)\n",
    "S3=np.diag([1,-1])\n",
    "op=np.kron(np.diag(np.ones(L*L*L)),np.kron(S3,S3)) #Define Preferred Spin axis\n",
    "rvec=2*np.pi*np.diag([1,1,1])/L\n",
    "WCCx=be.WSpinSurf(vec,model,bnds,ds,ds2,op,rvec,kwant=True)"
   ]
  },
  {
   "cell_type": "code",
   "execution_count": 15,
   "id": "233479b9",
   "metadata": {},
   "outputs": [
    {
     "data": {
      "image/png": "[encoded data removed]",
      "text/plain": [
       "<Figure size 640x480 with 1 Axes>"
      ]
     },
     "metadata": {},
     "output_type": "display_data"
    }
   ],
   "source": [
    "plt.rcParams[\"font.family\"] = \"Times New Roman\"\n",
    "plt.rcParams.update({'font.size': 18})\n",
    "plt.plot(np.sum(WCCx,1),'o', c='gray')\n",
    "plt.ylim(-pi,pi)\n",
    "plt.xlim(0,19)\n",
    "plt.yticks([-pi,0,pi],[r'$0$',r'$a/2$',r'$a$'])\n",
    "plt.xlabel(r'$k_{y}$')\n",
    "plt.xticks([0,10,19],[r'$-\\pi/L$',r'$0$',r'$\\pi/L$'])\n",
    "plt.ylabel(r'$\\bar{x}_{-}(k_{y})$')\n",
    "plt.tight_layout()\n",
    "plt.savefig('CH_WCC_SpinWL_Kwant.png')"
   ]
  },
  {
   "cell_type": "markdown",
   "id": "01c04ff5",
   "metadata": {},
   "source": [
    "# Wannier90 compatability coming soon!"
   ]
  },
  {
   "cell_type": "code",
   "execution_count": null,
   "id": "c23f0236",
   "metadata": {},
   "outputs": [],
   "source": []
  },
  {
   "cell_type": "code",
   "execution_count": null,
   "id": "da09887a",
   "metadata": {},
   "outputs": [],
   "source": []
  }
 ],
 "metadata": {
  "kernelspec": {
   "display_name": "Python 3 (ipykernel)",
   "language": "python",
   "name": "python3"
  },
  "language_info": {
   "codemirror_mode": {
    "name": "ipython",
    "version": 3
   },
   "file_extension": ".py",
   "mimetype": "text/x-python",
   "name": "python",
   "nbconvert_exporter": "python",
   "pygments_lexer": "ipython3",
   "version": "3.9.13"
  }
 },
 "nbformat": 4,
 "nbformat_minor": 5
}
