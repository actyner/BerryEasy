{
  "cells": [
    {
      "cell_type": "markdown",
      "id": "53ec8acc",
      "metadata": {
        "id": "53ec8acc"
      },
      "source": [
        "## Welcome to the Berry Easy Tutorial"
      ]
    },
    {
      "cell_type": "code",
      "source": [
        "!pip install pybinding"
      ],
      "metadata": {
        "colab": {
          "base_uri": "https://localhost:8080/"
        },
        "id": "ZQXPj7XVt0mJ",
        "outputId": "c1da1473-818d-46ef-ee42-7e0313ddd97d"
      },
      "id": "ZQXPj7XVt0mJ",
      "execution_count": 1,
      "outputs": [
        {
          "output_type": "stream",
          "name": "stdout",
          "text": [
            "Collecting pybinding\n",
            "  Downloading pybinding-0.9.5.tar.gz (1.6 MB)\n",
            "\u001b[2K     \u001b[90m━━━━━━━━━━━━━━━━━━━━━━━━━━━━━━━━━━━━━━━━\u001b[0m \u001b[32m1.6/1.6 MB\u001b[0m \u001b[31m9.4 MB/s\u001b[0m eta \u001b[36m0:00:00\u001b[0m\n",
            "\u001b[?25h  Preparing metadata (setup.py) ... \u001b[?25l\u001b[?25hdone\n",
            "Requirement already satisfied: numpy>=1.12 in /usr/local/lib/python3.10/dist-packages (from pybinding) (1.23.5)\n",
            "Requirement already satisfied: scipy>=0.19 in /usr/local/lib/python3.10/dist-packages (from pybinding) (1.11.4)\n",
            "Requirement already satisfied: matplotlib>=2.0 in /usr/local/lib/python3.10/dist-packages (from pybinding) (3.7.1)\n",
            "Requirement already satisfied: pytest>=5.0 in /usr/local/lib/python3.10/dist-packages (from pybinding) (7.4.3)\n",
            "Requirement already satisfied: contourpy>=1.0.1 in /usr/local/lib/python3.10/dist-packages (from matplotlib>=2.0->pybinding) (1.2.0)\n",
            "Requirement already satisfied: cycler>=0.10 in /usr/local/lib/python3.10/dist-packages (from matplotlib>=2.0->pybinding) (0.12.1)\n",
            "Requirement already satisfied: fonttools>=4.22.0 in /usr/local/lib/python3.10/dist-packages (from matplotlib>=2.0->pybinding) (4.47.0)\n",
            "Requirement already satisfied: kiwisolver>=1.0.1 in /usr/local/lib/python3.10/dist-packages (from matplotlib>=2.0->pybinding) (1.4.5)\n",
            "Requirement already satisfied: packaging>=20.0 in /usr/local/lib/python3.10/dist-packages (from matplotlib>=2.0->pybinding) (23.2)\n",
            "Requirement already satisfied: pillow>=6.2.0 in /usr/local/lib/python3.10/dist-packages (from matplotlib>=2.0->pybinding) (9.4.0)\n",
            "Requirement already satisfied: pyparsing>=2.3.1 in /usr/local/lib/python3.10/dist-packages (from matplotlib>=2.0->pybinding) (3.1.1)\n",
            "Requirement already satisfied: python-dateutil>=2.7 in /usr/local/lib/python3.10/dist-packages (from matplotlib>=2.0->pybinding) (2.8.2)\n",
            "Requirement already satisfied: iniconfig in /usr/local/lib/python3.10/dist-packages (from pytest>=5.0->pybinding) (2.0.0)\n",
            "Requirement already satisfied: pluggy<2.0,>=0.12 in /usr/local/lib/python3.10/dist-packages (from pytest>=5.0->pybinding) (1.3.0)\n",
            "Requirement already satisfied: exceptiongroup>=1.0.0rc8 in /usr/local/lib/python3.10/dist-packages (from pytest>=5.0->pybinding) (1.2.0)\n",
            "Requirement already satisfied: tomli>=1.0.0 in /usr/local/lib/python3.10/dist-packages (from pytest>=5.0->pybinding) (2.0.1)\n",
            "Requirement already satisfied: six>=1.5 in /usr/local/lib/python3.10/dist-packages (from python-dateutil>=2.7->matplotlib>=2.0->pybinding) (1.16.0)\n",
            "Building wheels for collected packages: pybinding\n",
            "  Building wheel for pybinding (setup.py) ... \u001b[?25l\u001b[?25hdone\n",
            "  Created wheel for pybinding: filename=pybinding-0.9.5-cp310-cp310-linux_x86_64.whl size=1033752 sha256=799d04717b42832e24df9115b1a33ed9549beee975dada287e9deaa86740703c\n",
            "  Stored in directory: /root/.cache/pip/wheels/e7/42/97/1f8177173309e928f2b6aad57d26477a259eb415af30e7fb81\n",
            "Successfully built pybinding\n",
            "Installing collected packages: pybinding\n",
            "Successfully installed pybinding-0.9.5\n"
          ]
        }
      ]
    },
    {
      "cell_type": "code",
      "source": [
        "!pip install BerryEasy --upgrade"
      ],
      "metadata": {
        "colab": {
          "base_uri": "https://localhost:8080/"
        },
        "id": "282OVjel1WR9",
        "outputId": "5c0790d0-0a41-4989-e0e0-bee97d2e7949"
      },
      "id": "282OVjel1WR9",
      "execution_count": 2,
      "outputs": [
        {
          "output_type": "stream",
          "name": "stdout",
          "text": [
            "Collecting BerryEasy\n",
            "  Downloading BerryEasy-0.1.0-py3-none-any.whl (6.7 kB)\n",
            "Requirement already satisfied: numpy in /usr/local/lib/python3.10/dist-packages (from BerryEasy) (1.23.5)\n",
            "Requirement already satisfied: pybinding in /usr/local/lib/python3.10/dist-packages (from BerryEasy) (0.9.5)\n",
            "Requirement already satisfied: matplotlib in /usr/local/lib/python3.10/dist-packages (from BerryEasy) (3.7.1)\n",
            "Requirement already satisfied: tqdm in /usr/local/lib/python3.10/dist-packages (from BerryEasy) (4.66.1)\n",
            "Requirement already satisfied: contourpy>=1.0.1 in /usr/local/lib/python3.10/dist-packages (from matplotlib->BerryEasy) (1.2.0)\n",
            "Requirement already satisfied: cycler>=0.10 in /usr/local/lib/python3.10/dist-packages (from matplotlib->BerryEasy) (0.12.1)\n",
            "Requirement already satisfied: fonttools>=4.22.0 in /usr/local/lib/python3.10/dist-packages (from matplotlib->BerryEasy) (4.47.0)\n",
            "Requirement already satisfied: kiwisolver>=1.0.1 in /usr/local/lib/python3.10/dist-packages (from matplotlib->BerryEasy) (1.4.5)\n",
            "Requirement already satisfied: packaging>=20.0 in /usr/local/lib/python3.10/dist-packages (from matplotlib->BerryEasy) (23.2)\n",
            "Requirement already satisfied: pillow>=6.2.0 in /usr/local/lib/python3.10/dist-packages (from matplotlib->BerryEasy) (9.4.0)\n",
            "Requirement already satisfied: pyparsing>=2.3.1 in /usr/local/lib/python3.10/dist-packages (from matplotlib->BerryEasy) (3.1.1)\n",
            "Requirement already satisfied: python-dateutil>=2.7 in /usr/local/lib/python3.10/dist-packages (from matplotlib->BerryEasy) (2.8.2)\n",
            "Requirement already satisfied: scipy>=0.19 in /usr/local/lib/python3.10/dist-packages (from pybinding->BerryEasy) (1.11.4)\n",
            "Requirement already satisfied: pytest>=5.0 in /usr/local/lib/python3.10/dist-packages (from pybinding->BerryEasy) (7.4.3)\n",
            "Requirement already satisfied: iniconfig in /usr/local/lib/python3.10/dist-packages (from pytest>=5.0->pybinding->BerryEasy) (2.0.0)\n",
            "Requirement already satisfied: pluggy<2.0,>=0.12 in /usr/local/lib/python3.10/dist-packages (from pytest>=5.0->pybinding->BerryEasy) (1.3.0)\n",
            "Requirement already satisfied: exceptiongroup>=1.0.0rc8 in /usr/local/lib/python3.10/dist-packages (from pytest>=5.0->pybinding->BerryEasy) (1.2.0)\n",
            "Requirement already satisfied: tomli>=1.0.0 in /usr/local/lib/python3.10/dist-packages (from pytest>=5.0->pybinding->BerryEasy) (2.0.1)\n",
            "Requirement already satisfied: six>=1.5 in /usr/local/lib/python3.10/dist-packages (from python-dateutil>=2.7->matplotlib->BerryEasy) (1.16.0)\n",
            "Installing collected packages: BerryEasy\n",
            "Successfully installed BerryEasy-0.1.0\n"
          ]
        }
      ]
    },
    {
      "cell_type": "code",
      "execution_count": 3,
      "id": "c5e533e0",
      "metadata": {
        "id": "c5e533e0"
      },
      "outputs": [],
      "source": [
        "# Packages needed\n",
        "from BerryEasy import BerryEasyGPU as be\n",
        "import pybinding as pb\n",
        "import cupy as cp\n",
        "import numpy as np\n",
        "import matplotlib.pyplot as plt"
      ]
    },
    {
      "cell_type": "markdown",
      "id": "fea7b393",
      "metadata": {
        "id": "fea7b393"
      },
      "source": [
        "# Chern Insulator example"
      ]
    },
    {
      "cell_type": "code",
      "execution_count": null,
      "id": "25f41e87",
      "metadata": {
        "colab": {
          "base_uri": "https://localhost:8080/",
          "height": 449
        },
        "id": "25f41e87",
        "outputId": "2fcee1e8-65e6-4e14-feeb-37977a02a2a2"
      },
      "outputs": [
        {
          "output_type": "display_data",
          "data": {
            "text/plain": [
              "<Figure size 640x480 with 1 Axes>"
            ],
            "image/png": "[encoded data removed]"
          },
          "metadata": {}
        }
      ],
      "source": [
        "#Define Matrices:\n",
        "g_1 = np.array([[0,1],[1,0]])\n",
        "g_2 = np.array([[0,-1j],[1j,0]])\n",
        "g_3 = np.diag([1,-1])\n",
        "\n",
        "#Define hopping terms\n",
        "U=-1.5*g_3\n",
        "Tx=(1j*g_1+g_3)/2\n",
        "Ty=(1j*g_2+g_3)/2\n",
        "lat=pb.Lattice(a1=[1,0],a2=[0,1])\n",
        "lat.add_sublattices(('A', [0,0],U))\n",
        "lat.add_hoppings(\n",
        "                 ([1,0], 'A', 'A', Tx),\n",
        "                 ([0,1], 'A', 'A', Ty)\n",
        "                )\n",
        "lattice = lat\n",
        "lattice.plot()\n",
        "plt.xlabel('x')\n",
        "plt.ylabel('y')\n",
        "#plt.savefig('Unit_Cell.png')\n",
        "plt.show()\n"
      ]
    },
    {
      "cell_type": "code",
      "execution_count": null,
      "id": "28f3ea03",
      "metadata": {
        "id": "28f3ea03"
      },
      "outputs": [],
      "source": [
        "#Plot bandstructure\n",
        "plt.rcParams[\"font.family\"] = \"Times New Roman\"\n",
        "plt.rcParams.update({'font.size': 18})\n",
        "model = pb.Model(lat,\n",
        "            pb.force_double_precision(),\n",
        "            pb.translational_symmetry(a1=True, a2=True, a3=True))\n",
        "solver = pb.solver.lapack(model)\n",
        "\n",
        "from math import pi\n",
        "X = [pi,0,0]\n",
        "Gamma = [0,0,0]\n",
        "M= [pi,pi,0]\n",
        "\n",
        "bands = solver.calc_bands( Gamma, X, M, Gamma,step=0.01)\n",
        "bands.plot(point_labels=[ r'$\\Gamma$', 'X', 'M', r'$\\Gamma$'])\n",
        "plt.ylabel(r'$E/t_{s}$')\n",
        "plt.xlabel('')\n",
        "#plt.savefig('Chern_Bands.png')"
      ]
    },
    {
      "cell_type": "markdown",
      "id": "1639ff5a",
      "metadata": {
        "id": "1639ff5a"
      },
      "source": [
        "# Now let us begin computing topological invariants"
      ]
    },
    {
      "cell_type": "code",
      "execution_count": null,
      "id": "16426510",
      "metadata": {
        "scrolled": false,
        "id": "16426510"
      },
      "outputs": [],
      "source": [
        "# Compute Wannier center charges along k_{x} direction as a function of transverse momenta k_{y}\n",
        "vec=lambda t1, t2: [t1, t2, 0]\n",
        "ds=100 #discretize integration into 100 steps\n",
        "ds2=100 #consider 100 points along k_{y}\n",
        "bnds=[0] #Occupied bands\n",
        "rvec=2*np.pi*np.diag([1,1,1]) #Reciprocal lattice vectors\n",
        "WCCx=be.WSurf(vec,model,bnds,ds,ds,rvec)\n",
        "plt.rcParams[\"font.family\"] = \"Times New Roman\"\n",
        "plt.rcParams.update({'font.size': 16})\n",
        "plt.plot(WCCx,'o', c='gray')\n",
        "plt.ylim(-pi,pi)\n",
        "plt.xlim(0,100)\n",
        "plt.yticks([-pi,0,pi],[r'$0$',r'$1/2$',r'$1$'])\n",
        "plt.xlabel(r'$k_{y}$')\n",
        "plt.xticks([0,50,100],[r'$-\\pi$',r'$0$',r'$\\pi$'])\n",
        "plt.ylabel(r'$\\bar{x}(k_{y})$')\n",
        "plt.tight_layout()\n",
        "#plt.savefig('Chern_WCC.png')\n",
        "\n",
        "plt.show()"
      ]
    },
    {
      "cell_type": "markdown",
      "id": "ece0cb94",
      "metadata": {
        "id": "ece0cb94"
      },
      "source": [
        "# Suppose we wish to observe Berry curvature in the plane. We can use a line instance to capture Berry flux through small plaquettes"
      ]
    },
    {
      "cell_type": "code",
      "execution_count": null,
      "id": "7c3b7d84",
      "metadata": {
        "id": "7c3b7d84"
      },
      "outputs": [],
      "source": [
        "model = pb.Model(lat,\n",
        "            pb.force_double_precision(),\n",
        "            pb.translational_symmetry(a1=True, a2=True, a3=True))\n",
        "solver = pb.solver.lapack(model)\n",
        "L=1 # Lattice Constant\n",
        "plaquettes=40 #Considering a 40x40 grid for computing Berry flux\n",
        "rvec1=2*np.pi/L\n",
        "rvec2=2*np.pi/L\n",
        "dsx=((np.pi/L)/(plaquettes))\n",
        "dsy=((np.pi/L)/(plaquettes))\n",
        "kp1=np.linspace(dsx,rvec1-dsx,plaquettes)\n",
        "kp2=np.linspace(dsy,rvec2-dsy,plaquettes)\n",
        "bnds=range(L*L)\n",
        "WCCtemp=[]\n",
        "for kx in kp1:\n",
        "    for ky in kp2:\n",
        "        kpts=np.array([[kx-dsx,ky-dsy,0],[kx+dsx,ky-dsy,0],[kx+dsx,ky+dsy,0],[kx-dsx,ky+dsy,0]]) # define line for Wilson loop around plaquette\n",
        "        WCCtemp.append(be.WLine(kpts,model,bnds))\n",
        "plt.rcParams[\"font.family\"] = \"Times New Roman\"\n",
        "plt.rcParams.update({'font.size': 14})\n",
        "chern=[]\n",
        "for j in range(np.shape(WCCtemp)[0]):\n",
        "    chern.append(np.sum(WCCtemp[j]))\n",
        "plt.imshow(np.array(chern).reshape(40,40),cmap='jet')\n",
        "plt.ylabel(r'$k_{y}$')\n",
        "plt.xlabel(r'$k_{x}$')\n",
        "plt.xticks([0,19.5,39],[0,'$\\pi/L$','$2\\pi/L$'])\n",
        "plt.yticks([0,19.5,39],[0,'$\\pi/L$','$2\\pi/L$'])\n",
        "plt.xlim(0,39)\n",
        "plt.ylim(0,39)\n",
        "\n",
        "plt.title('C='+str(np.round(np.sum(chern)/(2*np.pi),3)))\n",
        "clb = plt.colorbar()\n",
        "clb.ax.set_title(r'$F_{xy}(\\mathbf{k})$')\n",
        "plt.tight_layout()\n",
        "plt.show()"
      ]
    },
    {
      "cell_type": "markdown",
      "id": "fb67f575",
      "metadata": {
        "id": "fb67f575"
      },
      "source": [
        "# Now let us consider the BHZ model of a spin hall insulator"
      ]
    },
    {
      "cell_type": "code",
      "execution_count": null,
      "id": "b5032a9d",
      "metadata": {
        "id": "b5032a9d"
      },
      "outputs": [],
      "source": [
        "\n",
        "#Define Matrices:\n",
        "g_1 = np.array([[0, 0, 0, 1], [0, 0, 1, 0],[0, 1, 0, 0],[1, 0, 0, 0]])\n",
        "g_2 = np.array([[0,0,0, -1j], [0,0, 1j, 0],[0, -1j,0,0], [1j, 0,0,0]])\n",
        "g_3 = np.array([[0, 0, 1, 0], [0, 0, 0, -1],[1, 0, 0, 0],[0, -1, 0, 0]])\n",
        "g_4 = np.array([[0,0, -1j, 0], [0,0, 0,-1j],[1j,0,0,0], [0,1j,0,0]])\n",
        "g_5 = np.diag([1,1,-1, -1])\n",
        "\n",
        "U=-1.5*g_3\n",
        "Tx=(1j*g_1+g_3)/2\n",
        "Ty=(1j*g_2+g_3)/2\n",
        "#Tz=(1j*g_3+g_5)/2\n",
        "lat=pb.Lattice(a1=[1,0],a2=[0,1])\n",
        "lat.add_sublattices(('A', [0,0],U))\n",
        "lat.add_hoppings(\n",
        "                 ([1,0], 'A', 'A', Tx),\n",
        "                 ([0,1], 'A', 'A', Ty)\n",
        "                )\n",
        "lattice = lat\n",
        "lattice.plot()\n",
        "plt.xlabel('x')\n",
        "plt.ylabel('y')\n",
        "#plt.savefig('Unit_Cell.png')\n",
        "plt.show()\n",
        "\n"
      ]
    },
    {
      "cell_type": "code",
      "execution_count": null,
      "id": "9b9cbfe6",
      "metadata": {
        "id": "9b9cbfe6"
      },
      "outputs": [],
      "source": [
        "#Plot band structure, note bands are Kramers degenerate\n",
        "plt.rcParams[\"font.family\"] = \"Times New Roman\"\n",
        "plt.rcParams.update({'font.size': 18})\n",
        "model = pb.Model(lat,\n",
        "            pb.force_double_precision(),\n",
        "            pb.translational_symmetry(a1=True, a2=True, a3=True))\n",
        "solver = pb.solver.lapack(model)\n",
        "\n",
        "from math import pi\n",
        "X = [pi,0,0]\n",
        "Gamma = [0,0,0]\n",
        "M= [pi,pi,0]\n",
        "\n",
        "bands = solver.calc_bands( Gamma, X, M, Gamma,step=0.01)\n",
        "bands.plot(point_labels=[ r'$\\Gamma$', 'X', 'M', r'$\\Gamma$'])\n",
        "plt.ylabel(r'$E/t_{s}$')\n",
        "plt.xlabel('')\n",
        "#plt.savefig('BHZ_Bands.png')"
      ]
    },
    {
      "cell_type": "code",
      "execution_count": null,
      "id": "6828a379",
      "metadata": {
        "id": "6828a379"
      },
      "outputs": [],
      "source": [
        "# Compute Wannier center charges along k_{x} direction as a function of transverse momenta\n",
        "vec=lambda t1, t2: [t1, t2, 0]\n",
        "ds=100\n",
        "bnds=[0,1]\n",
        "rvec=2*np.pi*np.diag([1,1,1])\n",
        "WCCx=be.WSurf(vec,model,bnds,ds,ds,rvec)\n",
        "plt.rcParams[\"font.family\"] = \"Times New Roman\"\n",
        "plt.rcParams.update({'font.size': 16})\n",
        "plt.plot(WCCx,'o', c='gray')\n",
        "plt.ylim(-pi,pi)\n",
        "plt.xlim(0,100)\n",
        "plt.yticks([-pi,0,pi],[r'$0$',r'$1/2$',r'$1$'])\n",
        "plt.xlabel(r'$k_{y}$')\n",
        "plt.xticks([0,50,100],[r'$-\\pi$',r'$0$',r'$\\pi$'])\n",
        "plt.ylabel(r'$\\bar{x}(k_{y})$')\n",
        "plt.tight_layout()\n",
        "#plt.savefig('BHZ_WCC.png')\n",
        "\n",
        "plt.show()"
      ]
    },
    {
      "cell_type": "markdown",
      "id": "afabbd8a",
      "metadata": {
        "id": "afabbd8a"
      },
      "source": [
        "# Now let us consider a chiral HOTI:"
      ]
    },
    {
      "cell_type": "code",
      "execution_count": null,
      "id": "fb9ef76b",
      "metadata": {
        "id": "fb9ef76b"
      },
      "outputs": [],
      "source": [
        "\n",
        "\n",
        "#Define Matrices:\n",
        "g_1 = np.array([[0, 0, 0, 1], [0, 0, 1, 0],[0, 1, 0, 0],[1, 0, 0, 0]])\n",
        "g_2 = np.array([[0,0,0, -1j], [0,0, 1j, 0],[0, -1j,0,0], [1j, 0,0,0]])\n",
        "g_3 = np.array([[0, 0, 1, 0], [0, 0, 0, -1],[1, 0, 0, 0],[0, -1, 0, 0]])\n",
        "g_4 = np.array([[0,0, -1j, 0], [0,0, 0,-1j],[1j,0,0,0], [0,1j,0,0]])\n",
        "g_5 = np.diag([1,1,-1, -1])\n",
        "\n",
        "U=-1.5*g_5\n",
        "Tx=(1j*g_1+g_5+g_4)/2\n",
        "Ty=(1j*g_2+g_5-g_4)/2\n",
        "Tz=(1j*g_3+g_5)/2\n",
        "lat=pb.Lattice(a1=[1,0,0],a2=[0,1,0],a3=[0,0,1])\n",
        "lat.add_sublattices(('A', [0,0,0],U))\n",
        "lat.add_hoppings(\n",
        "                 ([1,0,0], 'A', 'A', Tx),\n",
        "                 ([0,1,0], 'A', 'A', Ty),\n",
        "    ([0,0,1], 'A', 'A', Tz)\n",
        "                )\n",
        "lattice = lat\n",
        "lattice.plot()\n",
        "plt.xlabel('x')\n",
        "plt.ylabel('y')\n",
        "#plt.savefig('Unit_Cell.png')\n",
        "plt.show()\n",
        "\n"
      ]
    },
    {
      "cell_type": "code",
      "execution_count": null,
      "id": "0de3b575",
      "metadata": {
        "id": "0de3b575"
      },
      "outputs": [],
      "source": [
        "#Plot Bandstructure\n",
        "plt.rcParams[\"font.family\"] = \"Times New Roman\"\n",
        "plt.rcParams.update({'font.size': 18})\n",
        "model = pb.Model(lat,\n",
        "            pb.force_double_precision(),\n",
        "            pb.translational_symmetry(a1=True, a2=True, a3=True))\n",
        "solver = pb.solver.lapack(model)\n",
        "\n",
        "from math import pi\n",
        "X = [pi,0,0]\n",
        "Gamma = [0,0,0]\n",
        "M= [pi,pi,0]\n",
        "\n",
        "bands = solver.calc_bands( Gamma, X, M, Gamma,step=0.01)\n",
        "bands.plot(point_labels=[ r'$\\Gamma$', 'X', 'M', r'$\\Gamma$'])\n",
        "plt.ylabel(r'$E/t_{s}$')\n",
        "plt.xlabel('')\n",
        "#plt.savefig('Chiral_HOTI_Bands.png')"
      ]
    },
    {
      "cell_type": "markdown",
      "id": "276d4939",
      "metadata": {
        "id": "276d4939"
      },
      "source": [
        "# Compute Wannier center charges along $k_{x}$ direction as a function of transverse momenta"
      ]
    },
    {
      "cell_type": "code",
      "execution_count": null,
      "id": "0b39a773",
      "metadata": {
        "id": "0b39a773"
      },
      "outputs": [],
      "source": [
        "\n",
        "\n",
        "kz=0\n",
        "U=-1.5*g_5+np.cos(kz)*g_5+np.sin(kz)*g_3\n",
        "Tx=(1j*g_1+g_5+g_4)/2\n",
        "Ty=(1j*g_2+g_5-g_4)/2\n",
        "lat=pb.Lattice(a1=[1,0],a2=[0,1])\n",
        "lat.add_sublattices(('A', [0,0],U))\n",
        "lat.add_hoppings(\n",
        "                 ([1,0], 'A', 'A', Tx),\n",
        "                 ([0,1], 'A', 'A', Ty)\n",
        "                )\n",
        "model = pb.Model(lat,\n",
        "        pb.force_double_precision(),\n",
        "        pb.translational_symmetry(a1=True, a2=True))\n",
        "solver = pb.solver.lapack(model)\n",
        "vec=lambda t1, t2: [t1, t2, 0]\n",
        "ds=100\n",
        "rvec=2*np.pi*np.diag([1,1,1])\n",
        "bnds=[0,1]\n",
        "WCCx=be.WSurf(vec,model,bnds,ds,ds,rvec)\n",
        "plt.rcParams[\"font.family\"] = \"Times New Roman\"\n",
        "plt.rcParams.update({'font.size': 16})\n",
        "plt.plot(WCCx,'o', c='gray')\n",
        "plt.ylim(-pi,pi)\n",
        "plt.xlim(0,100)\n",
        "plt.yticks([-pi,0,pi],[r'$0$',r'$1/2$',r'$1$'])\n",
        "plt.xlabel(r'$k_{y}$')\n",
        "plt.xticks([0,50,100],[r'$-\\pi$',r'$0$',r'$\\pi$'])\n",
        "plt.ylabel(r'$\\bar{x}(k_{y})$')\n",
        "plt.tight_layout()\n",
        "#plt.savefig('CH_WCC.png')\n",
        "\n",
        "plt.show()"
      ]
    },
    {
      "cell_type": "markdown",
      "id": "191ce478",
      "metadata": {
        "id": "191ce478"
      },
      "source": [
        "# Compute Nested Wilson loop in $k_{x}-k_{y}$ plane as a function of $k_{z}$"
      ]
    },
    {
      "cell_type": "code",
      "execution_count": null,
      "id": "eb276b7e",
      "metadata": {
        "id": "eb276b7e"
      },
      "outputs": [],
      "source": [
        "\n",
        "g_1 = np.array([[0, 0, 0, 1], [0, 0, 1, 0],[0, 1, 0, 0],[1, 0, 0, 0]])\n",
        "g_2 = np.array([[0,0,0, -1j], [0,0, 1j, 0],[0, -1j,0,0], [1j, 0,0,0]])\n",
        "g_3 = np.array([[0, 0, 1, 0], [0, 0, 0, -1],[1, 0, 0, 0],[0, -1, 0, 0]])\n",
        "g_4 = np.array([[0,0, -1j, 0], [0,0, 0,-1j],[1j,0,0,0], [0,1j,0,0]])\n",
        "g_5 = np.diag([1,1,-1, -1])\n",
        "NWL=[]\n",
        "ds=100\n",
        "ds2=100\n",
        "bnds=[0,1] #bands for construction of Wannier Hamiltonian\n",
        "bnds2=[0] #bands of Wannier Hamiltonian being considered\n",
        "for kz in np.linspace(-np.pi,np.pi,21):\n",
        "    U=-1.5*g_5+np.cos(kz)*g_5+np.sin(kz)*g_3\n",
        "    Tx=(1j*g_1+g_5+g_4)/2\n",
        "    Ty=(1j*g_2+g_5-g_4)/2\n",
        "    lat=pb.Lattice(a1=[1,0],a2=[0,1])\n",
        "    lat.add_sublattices(('A', [0,0],U))\n",
        "    lat.add_hoppings(\n",
        "                     ([1,0], 'A', 'A', Tx),\n",
        "                     ([0,1], 'A', 'A', Ty)\n",
        "                    )\n",
        "    model = pb.Model(lat,\n",
        "            pb.force_double_precision(),\n",
        "            pb.translational_symmetry(a1=True, a2=True))\n",
        "    solver = pb.solver.lapack(model)\n",
        "    rvec=2*np.pi*np.diag([1,1,1])\n",
        "    vec=lambda t1, t2: [t1, t2, 0]\n",
        "    WCCx=be.WNWL(vec,model,bnds,bnds2,ds,ds,rvec)\n",
        "    NWL.append(WCCx)\n",
        "plt.plot(np.array(NWL),'o')\n",
        "plt.ylim(-np.pi,np.pi)\n",
        "plt.yticks([-np.pi,0,np.pi],[r'$-\\pi$',r'$0$',r'$\\pi$'])\n",
        "plt.xlabel(r'$k_{z}$')\n",
        "plt.xlim(0,20)\n",
        "plt.xticks([0,10,20],[r'$-\\pi$',r'$0$',r'$\\pi$'])\n",
        "plt.ylabel(r'$\\lambda_{xy}(k_{z})$')\n",
        "plt.tight_layout()\n",
        "#plt.savefig('ChiralHOTINWL.png')\n",
        "plt.show()"
      ]
    },
    {
      "cell_type": "markdown",
      "id": "06abeaee",
      "metadata": {
        "id": "06abeaee"
      },
      "source": [
        "# We saw that the WCC spectra was gapped, now let us consider the spin-resolved Wannier centers"
      ]
    },
    {
      "cell_type": "code",
      "execution_count": null,
      "id": "95570cfd",
      "metadata": {
        "id": "95570cfd"
      },
      "outputs": [],
      "source": [
        "\n",
        "kz=0\n",
        "U=-1.5*g_5+np.cos(kz)*g_5+np.sin(kz)*g_3\n",
        "Tx=(1j*g_1+g_5+g_4)/2\n",
        "Ty=(1j*g_2+g_5-g_4)/2\n",
        "lat=pb.Lattice(a1=[1,0],a2=[0,1])\n",
        "lat.add_sublattices(('A', [0,0],U))\n",
        "lat.add_hoppings(\n",
        "                 ([1,0], 'A', 'A', Tx),\n",
        "                 ([0,1], 'A', 'A', Ty)\n",
        "                )\n",
        "model = pb.Model(lat,\n",
        "        pb.force_double_precision(),\n",
        "        pb.translational_symmetry(a1=True, a2=True))\n",
        "solver = pb.solver.lapack(model)\n",
        "vec=lambda t1, t2: [t1, t2, 0]\n",
        "ds=100\n",
        "ds2=100\n",
        "bnds=[0,1]\n",
        "S3=cp.diag([1,-1])\n",
        "op=cp.kron(S3,S3) #Define Preferred Spin axis\n",
        "rvec=2*np.pi*np.diag([1,1,1])\n",
        "WCCx=be.WSpinSurf(vec,model,bnds,ds,ds2,op,rvec)\n",
        "plt.rcParams[\"font.family\"] = \"Times New Roman\"\n",
        "plt.rcParams.update({'font.size': 18})\n",
        "plt.plot(WCCx,'.', c='gray')\n",
        "plt.ylim(-pi,pi)\n",
        "plt.xlim(0,100)\n",
        "plt.yticks([-pi,0,pi],[r'$0$',r'$1/2$',r'$1$'])\n",
        "plt.xlabel(r'$k_{y}$')\n",
        "plt.xticks([0,50,100],[r'$-\\pi$',r'$0$',r'$\\pi$'])\n",
        "plt.ylabel(r'$\\bar{x}_{-}(k_{y})$')\n",
        "plt.tight_layout()\n",
        "#plt.savefig('CH_WCC_SpinWL.png')"
      ]
    },
    {
      "cell_type": "markdown",
      "id": "4c68f5e0",
      "metadata": {
        "id": "4c68f5e0"
      },
      "source": [
        "# Create PyBinding instance of bilayer-bismuth from Wannier90 output"
      ]
    },
    {
      "cell_type": "code",
      "execution_count": null,
      "id": "3a3bf786",
      "metadata": {
        "id": "3a3bf786",
        "outputId": "c6d7bf08-ce75-4896-c641-4d40c9f778de"
      },
      "outputs": [
        {
          "name": "stdout",
          "output_type": "stream",
          "text": [
            "Reading: Bi_tb.dat... \t\tdone.\n",
            "Reading: Bi_centres.xyz... \tdone.\n",
            "Converting on-site energyies: \n"
          ]
        },
        {
          "name": "stderr",
          "output_type": "stream",
          "text": [
            "100%|██████████| 1639/1639 [00:00<00:00, 244982.87it/s]\n"
          ]
        },
        {
          "name": "stdout",
          "output_type": "stream",
          "text": [
            "Converting hopping energyies: \n"
          ]
        },
        {
          "name": "stderr",
          "output_type": "stream",
          "text": [
            "100%|██████████| 1639/1639 [00:00<00:00, 2385.21it/s]\n"
          ]
        }
      ],
      "source": [
        "import argparse\n",
        "import pybinding as pb\n",
        "import time\n",
        "from tqdm import tqdm\n",
        "\n",
        "#starttime = time.perf_counter()\n",
        "#print(\"Starting calculation at \", end='')\n",
        "#print(time.strftime(\"%H:%M:%S on %a %d %b %Y \\n\"))\n",
        "\n",
        "# Command line praser\n",
        "#----------------------------\n",
        "\n",
        "\n",
        "lat = be.wan90_lat(0.05,100,\"Bi\")\n",
        "pb.save(lat,\"wtb_test.pbz\")\n",
        "\n",
        "#endtime = time.perf_counter()\n",
        "#runtime = endtime-starttime\n",
        "#print(\"\\nEnd of calculation. \", end='')\n",
        "#print(\"Program was running for %.2f seconds.\" % runtime)"
      ]
    },
    {
      "cell_type": "markdown",
      "id": "dc8b8290",
      "metadata": {
        "id": "dc8b8290"
      },
      "source": [
        "# Plot bands of tight-binding model"
      ]
    },
    {
      "cell_type": "code",
      "execution_count": null,
      "id": "acfae5c6",
      "metadata": {
        "id": "acfae5c6",
        "outputId": "21f26261-c3d2-4327-c122-0d16817612e8"
      },
      "outputs": [
        {
          "data": {
            "image/png": "[encoded data removed]",
            "text/plain": [
              "<Figure size 544x467.2 with 1 Axes>"
            ]
          },
          "metadata": {},
          "output_type": "display_data"
        }
      ],
      "source": [
        "\n",
        "import pybinding as pb\n",
        "import numpy as np\n",
        "import matplotlib.pyplot as plt\n",
        "pb.pltutils.use_style()\n",
        "# read-in lattice\n",
        "lat = pb.load(\"wtb_test.pbz\")\n",
        "\n",
        "# construct model\n",
        "model = pb.Model(lat, pb.translational_symmetry())\n",
        "\n",
        "# use lapack solver\n",
        "solver = pb.solver.lapack(model)\n",
        "\n",
        "# get me recripocal vectors\n",
        "rvec = np.array(lat.reciprocal_vectors())\n",
        "\n",
        "# construct high symmetry points.\n",
        "Gamma   = np.array([0,0,0])@rvec\n",
        "M   = np.array([0.5,0,0])@rvec\n",
        "K   = np.array([0.333,0.333,0])@rvec\n",
        "\n",
        "\n",
        "bands = solver.calc_bands(Gamma, M, K, Gamma,  step=0.02)\n",
        "bands.plot(point_labels=[r'$\\Gamma$', 'M', 'K',r'$\\Gamma$'])\n",
        "plt.savefig('BiWTB_Bands.png')"
      ]
    },
    {
      "cell_type": "markdown",
      "id": "a5cee72f",
      "metadata": {
        "id": "a5cee72f"
      },
      "source": [
        "# Compute Wannier center charges to demonstrate non-trivial $\\mathbb{Z}_{2}$ index"
      ]
    },
    {
      "cell_type": "code",
      "execution_count": null,
      "id": "88bfce95",
      "metadata": {
        "id": "88bfce95"
      },
      "outputs": [],
      "source": [
        "from math import pi\n",
        "vec=lambda t1, t2: [t2, t1, 0]\n",
        "ds=100\n",
        "bnds=[0,1,2,3,4,5]\n",
        "rvec = np.array(lat.reciprocal_vectors())\n",
        "WCCx=be.WSurf(vec,model,bnds,ds,ds,rvec)\n",
        "WCC2=[]\n",
        "for i in range(101):\n",
        "    for j in range(6):\n",
        "        if WCCx[i][j]<0:\n",
        "            WCC2.append(WCCx[i][j]+2*np.pi)\n",
        "        else:\n",
        "            WCC2.append(WCCx[i][j])\n",
        "plt.rcParams[\"font.family\"] = \"Times New Roman\"\n",
        "plt.rcParams.update({'font.size': 14})\n",
        "plt.plot(np.array(WCC2).reshape(101,6),'.',c='gray')\n",
        "plt.ylim(0,2*pi)\n",
        "plt.xlim(0,100)\n",
        "plt.yticks([0,pi,2*pi],[r'$0$',r'$a/2$',r'$a$'])\n",
        "plt.xlabel(r'$k_{2}$')\n",
        "plt.xticks([0,50,100],[r'$-\\pi/a$',r'$0$',r'$\\pi/a$'])\n",
        "plt.ylabel(r'$\\bar{x}(k_{2})$')\n",
        "plt.title('BerryEasy')\n",
        "#plt.savefig('Bi_TB_WCC.png')"
      ]
    },
    {
      "cell_type": "markdown",
      "id": "727a3a92",
      "metadata": {
        "id": "727a3a92"
      },
      "source": [
        "# Let us compare BerryEasy computations with that of Z2Pack"
      ]
    },
    {
      "cell_type": "code",
      "execution_count": null,
      "id": "68ed5c48",
      "metadata": {
        "id": "68ed5c48"
      },
      "outputs": [],
      "source": [
        "\n",
        "import z2pack\n",
        "import tbmodels\n",
        "model = tbmodels.Model.from_wannier_files(\n",
        "    hr_file='Bi_hr.dat')\n",
        "system = z2pack.tb.System(model, bands=6)\n",
        "\n",
        "import logging\n",
        "import itertools\n",
        "import matplotlib.pyplot as plt\n",
        "\n",
        "result = z2pack.surface.run(\n",
        "        system=system,\n",
        "        surface= lambda s,t: [t, s, 0],\n",
        "        iterator=range(50,500,100),\n",
        "        num_lines=101,\n",
        "        pos_tol=None\n",
        "\n",
        "\n",
        "\n",
        ")\n",
        "\n",
        "z2pack.plot.wcc(result,gaps=False)\n",
        "plt.show()"
      ]
    },
    {
      "cell_type": "markdown",
      "id": "245067f6",
      "metadata": {
        "id": "245067f6"
      },
      "source": [
        "# Plot Z2pack results, they are identical to Berry Easy results"
      ]
    },
    {
      "cell_type": "code",
      "execution_count": null,
      "id": "6fdeda4d",
      "metadata": {
        "id": "6fdeda4d"
      },
      "outputs": [],
      "source": [
        "\n",
        "z2pack.plot.wcc(result,gaps=False)\n",
        "plt.xlabel(r'$k_{2}$')\n",
        "plt.xticks([0,.5,1],[r'$-\\pi/a$',r'$0$',r'$\\pi/a$'])\n",
        "plt.yticks([0,.5,1],[r'$0$',r'$a/2$',r'$a$'])\n",
        "\n",
        "plt.ylabel(r'$\\bar{x}(k_{2})$')\n",
        "plt.title('Z2Pack')\n",
        "plt.savefig('Bi_TB_WCC_Z2Pack.png')\n",
        "plt.show()"
      ]
    },
    {
      "cell_type": "code",
      "execution_count": null,
      "id": "c66c54ff",
      "metadata": {
        "id": "c66c54ff"
      },
      "outputs": [],
      "source": []
    },
    {
      "cell_type": "code",
      "execution_count": null,
      "id": "c1834bcd",
      "metadata": {
        "id": "c1834bcd"
      },
      "outputs": [],
      "source": []
    },
    {
      "cell_type": "code",
      "execution_count": null,
      "id": "32f0930f",
      "metadata": {
        "id": "32f0930f"
      },
      "outputs": [],
      "source": []
    }
  ],
  "metadata": {
    "kernelspec": {
      "display_name": "Python 3",
      "name": "python3"
    },
    "language_info": {
      "codemirror_mode": {
        "name": "ipython",
        "version": 3
      },
      "file_extension": ".py",
      "mimetype": "text/x-python",
      "name": "python",
      "nbconvert_exporter": "python",
      "pygments_lexer": "ipython3",
      "version": "3.9.12"
    },
    "colab": {
      "provenance": [],
      "gpuType": "T4"
    },
    "accelerator": "GPU"
  },
  "nbformat": 4,
  "nbformat_minor": 5
}